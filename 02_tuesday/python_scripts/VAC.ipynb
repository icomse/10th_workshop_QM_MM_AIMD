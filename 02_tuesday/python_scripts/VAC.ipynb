{
 "cells": [
  {
   "cell_type": "code",
   "execution_count": null,
   "id": "4cd5f1a7-6236-4025-a6d4-80c22d23d6c8",
   "metadata": {},
   "outputs": [],
   "source": [
    "import matplotlib.pyplot as plt\n",
    "import numpy as np\n",
    "\n",
    "plt.style.use('seaborn-poster')\n",
    "%matplotlib \n",
    "\n",
    "time = []\n",
    "C = []\n",
    "\n",
    "try:\n",
    "    with open('your_file.txt', 'r') as file:\n",
    "        for line in file:\n",
    "            # Split the line into parts based on whitespace (default) or a specific delimiter\n",
    "            parts = line.strip().split() \n",
    "            if len(parts) == 2:  # Ensure there are exactly two columns\n",
    "                column1.append(parts[0])\n",
    "                column2.append(parts[1])\n",
    "except FileNotFoundError:\n",
    "    print(\"Error: The file 'your_file.txt' was not found.\")\n",
    "except Exception as e:\n",
    "    print(f\"An error occurred: {e}\")\n",
    "\n",
    "# Now, 'column1' and 'column2' lists contain the data from each column\n",
    "print(\"Column 1:\", column1)\n",
    "print(\"Column 2:\", column2)\n"
   ]
  }
 ],
 "metadata": {
  "kernelspec": {
   "display_name": "Python [conda env:base] *",
   "language": "python",
   "name": "conda-base-py"
  },
  "language_info": {
   "codemirror_mode": {
    "name": "ipython",
    "version": 3
   },
   "file_extension": ".py",
   "mimetype": "text/x-python",
   "name": "python",
   "nbconvert_exporter": "python",
   "pygments_lexer": "ipython3",
   "version": "3.12.7"
  }
 },
 "nbformat": 4,
 "nbformat_minor": 5
}
